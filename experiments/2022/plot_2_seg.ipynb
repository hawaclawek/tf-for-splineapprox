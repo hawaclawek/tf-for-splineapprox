{
 "cells": [
  {
   "cell_type": "code",
   "execution_count": 1,
   "metadata": {},
   "outputs": [],
   "source": [
    "import matplotlib.backends.backend_pgf\n",
    "import matplotlib.pyplot as plt\n",
    "matplotlib.use('module://backend_ipe')\n",
    "\n",
    "#latex_man = matplotlib.backends.backend_pgf.LatexManager()\n",
    "\n",
    "import numpy as np\n",
    "from tensorflow import keras\n",
    "import multiprocessing as mp\n",
    "from itertools import repeat\n",
    "\n",
    "from tfspline import model\n",
    "from tfspline import plot\n",
    "from tfspline import sampledata\n",
    "from tfspline import parallel"
   ]
  },
  {
   "cell_type": "markdown",
   "metadata": {},
   "source": [
    "## Input data\n",
    "To simplify choice of constants we shift and scale data such that values are in the [0, 1] range. Otherwise we would need to adapt learning rate and similar things. We skip the back-transformation as we would do in production code."
   ]
  },
  {
   "cell_type": "code",
   "execution_count": 2,
   "metadata": {},
   "outputs": [
    {
     "data": {
      "text/plain": "[<matplotlib.lines.Line2D at 0x24276504160>]"
     },
     "execution_count": 2,
     "metadata": {},
     "output_type": "execute_result"
    }
   ],
   "source": [
    "# Generate input data\n",
    "\n",
    "data_x = np.linspace(0, 0.5*np.pi, 30)\n",
    "data_y = np.sin(data_x)\n",
    "\n",
    "# data_x = np.linspace(0, 1, 100)\n",
    "# data_y = np.sin(data_x**2 * 4 * np.pi)\n",
    "\n",
    "[data_x_norm, data_y_norm] = sampledata.rescale_input_data(data_x, data_y)\n",
    "\n",
    "plt.plot(data_x_norm, data_y_norm, color='gray', linestyle='dotted', linewidth=0.1, marker='.')"
   ]
  },
  {
   "cell_type": "code",
   "execution_count": 3,
   "metadata": {
    "pycharm": {
     "name": "#%%\n"
    }
   },
   "outputs": [],
   "source": [
    "learning_rate = 0.1\n",
    "gradient_regularization=True\n",
    "deg=5\n",
    "n=2\n",
    "continuity=False\n",
    "seg_overlap = 0\n",
    "epochs=80\n",
    "lambd = 1"
   ]
  },
  {
   "cell_type": "code",
   "execution_count": 4,
   "outputs": [
    {
     "name": "stdout",
     "output_type": "stream",
     "text": [
      "TensorFlow: Number of recognized GPUs:  1\n",
      "Fitting took 0.9010028839111328 seconds\n"
     ]
    },
    {
     "data": {
      "text/plain": "<tf.Tensor: shape=(), dtype=float64, numpy=0.0022694210612523953>"
     },
     "execution_count": 4,
     "metadata": {},
     "output_type": "execute_result"
    }
   ],
   "source": [
    "spline = model.Spline(polydegree=5, polynum=2, ck=2, clamped=True)\n",
    "spline.continuity = False\n",
    "spline.verbose = True\n",
    "\n",
    "opt = keras.optimizers.SGD(learning_rate=learning_rate, momentum=0.95, nesterov=True)\n",
    "#opt = keras.optimizers.Adam(learning_rate=learning_rate, amsgrad=True)\n",
    "\n",
    "spline.fit(data_x_norm, data_y_norm, optimizer=opt, n_epochs=epochs, factor_approximation_quality=lambd,\n",
    "factor_ck_pressure=1-lambd, factor_curvature=0, gradient_regularization=gradient_regularization, overlap_segments=0,\n",
    "                shift_polynomial_centers='median', uniform_split='True', initialize_l2fit=False)"
   ],
   "metadata": {
    "collapsed": false,
    "pycharm": {
     "name": "#%%\n"
    }
   }
  },
  {
   "cell_type": "code",
   "execution_count": 5,
   "outputs": [],
   "source": [
    "plot.plot_spline(spline)\n",
    "plt.savefig('destination_path.pdf', format='pdf')"
   ],
   "metadata": {
    "collapsed": false,
    "pycharm": {
     "name": "#%%\n"
    }
   }
  }
 ],
 "metadata": {
  "interpreter": {
   "hash": "84a357e9b55ad42c0f7b99416edb2a693a02d6f83453fc37187edf5b654243ca"
  },
  "kernelspec": {
   "display_name": "Python 3.8.6 64-bit ('venv': venv)",
   "name": "python3"
  },
  "language_info": {
   "codemirror_mode": {
    "name": "ipython",
    "version": 3
   },
   "file_extension": ".py",
   "mimetype": "text/x-python",
   "name": "python",
   "nbconvert_exporter": "python",
   "pygments_lexer": "ipython3",
   "version": "3.8.6"
  },
  "orig_nbformat": 4
 },
 "nbformat": 4,
 "nbformat_minor": 2
}