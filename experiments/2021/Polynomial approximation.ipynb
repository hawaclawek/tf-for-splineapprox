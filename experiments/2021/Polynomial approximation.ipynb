{
 "cells": [
  {
   "cell_type": "markdown",
   "id": "e7d5f573",
   "metadata": {},
   "source": [
    "# Polynomial approximation\n",
    "\n",
    "This notebook demonstrate how to use TensorFlow gradient tape and optimizers to approximate a polynomial to a point cloud. The main purpose is to investigate the approximation of a single polynomial as a building block for the larger splines problem."
   ]
  },
  {
   "cell_type": "code",
   "execution_count": 1,
   "id": "7ad0179a",
   "metadata": {},
   "outputs": [],
   "source": [
    "import tensorflow as tf\n",
    "from tensorflow import keras\n",
    "\n",
    "import numpy as np\n",
    "\n",
    "import matplotlib as mpl\n",
    "import matplotlib.pyplot as plt\n",
    "\n",
    "import math"
   ]
  },
  {
   "cell_type": "code",
   "execution_count": 2,
   "id": "statutory-clinic",
   "metadata": {},
   "outputs": [],
   "source": [
    "%load_ext autoreload\n",
    "%autoreload 2\n",
    "import polynomial"
   ]
  },
  {
   "cell_type": "code",
   "execution_count": 3,
   "id": "b2d8c01b",
   "metadata": {},
   "outputs": [],
   "source": [
    "def trans_probabilities(xs):\n",
    "    \"\"\"Takes a sequence of numbers and makes it sum up to one.\"\"\"\n",
    "    xs = np.array(xs)\n",
    "    return xs / sum(xs)\n",
    "\n",
    "def l2_sq_loss(coeffs, xs, ys):\n",
    "    \"\"\"The squared L2 loss of given polynomial on given data points (xs, ys). Loss is\n",
    "    invariant on the length of xs.\"\"\" \n",
    "    return polynomial.l2_sq_error(coeffs, xs, ys) / len(xs)\n",
    "\n",
    "def fit(xs, ys, degree, epochs=500, **kwargs):\n",
    "    \"\"\"Fits a polynomial. Returns coefficients and loss sequence.\"\"\"\n",
    "    \n",
    "    # Load initial coeffs. This overrules the degree parameter in case\n",
    "    # they would not agree\n",
    "    if \"coeffs\" not in kwargs:\n",
    "        # Note: Default dtype is tf.float32!\n",
    "        coeffs = [tf.Variable(0.0, dtype=tf.float64) for _ in range(degree+1)]\n",
    "    else:\n",
    "        coeffs = [tf.Variable(c, dtype=tf.float64) for c in kwargs[\"coeffs\"]]\n",
    "        degree = len(coeffs) - 1\n",
    "    \n",
    "    if \"optimizer\" not in kwargs:\n",
    "        optimizer = keras.optimizers.SGD(learning_rate=0.1)\n",
    "    else:\n",
    "        optimizer = kwargs[\"optimizer\"]\n",
    "\n",
    "    losses = [None for _ in range(epochs)]\n",
    "\n",
    "    # Regularize depending on degree of coefficient\n",
    "    if kwargs.get(\"regularize_grads_degree\", True):        \n",
    "        reg_grads = [1.0 / (1 + i) for i in range(len(coeffs))]\n",
    "    else:\n",
    "        reg_grads = np.ones(len(coeffs))\n",
    "    # Make gradient regularization coefficients a probability distribution.\n",
    "    # This makes the sum of gradients independent of degree.\n",
    "    reg_grads = trans_probabilities(reg_grads)\n",
    "    \n",
    "    for epoch in range(epochs): \n",
    "        with tf.GradientTape() as tape:            \n",
    "            loss = l2_sq_loss(coeffs, xs, ys)\n",
    "            losses[epoch] = loss.numpy()\n",
    "            if kwargs.get(\"print_progress\", False) and epoch % 10 == 0:\n",
    "                print(\"epoch=%d, loss=%4g\\r\" % (epoch, loss), end=\"\")\n",
    "        grads = tape.gradient(loss, coeffs)\n",
    "        grads = [g * reg_grads[i] for i, g in enumerate(grads)]\n",
    "        \n",
    "        optimizer.apply_gradients(zip(grads, coeffs))\n",
    "        \n",
    "    if kwargs.get(\"print_progress\", False):\n",
    "        print()\n",
    "        \n",
    "    return [c.numpy() for c in coeffs], losses"
   ]
  },
  {
   "cell_type": "code",
   "execution_count": null,
   "id": "muslim-colony",
   "metadata": {},
   "outputs": [],
   "source": [
    "def parallel_experiment_execution(job, args_per_job):\n",
    "    \"\"\"Return [job(args) for args in args_per_job] as numpy array,\n",
    "    but runs the jobs in parallel on all CPUs.\"\"\"\n",
    "    \n",
    "    import multiprocessing as mp\n",
    "    pool = mp.Pool(mp.cpu_count())\n",
    "    \n",
    "    allres = pool.starmap(job, args_per_job)\n",
    "    print(\"\\nAll done.\")\n",
    "    \n",
    "    return allres"
   ]
  },
  {
   "cell_type": "markdown",
   "id": "cec1798d",
   "metadata": {},
   "source": [
    "# How is convergence influenced?\n",
    "\n",
    "## Regularization of gradients according to coefficient degree:\n",
    "**Rationale.** For a polynomial the higher-degree terms have larger impact. Hence, the gradients on\n",
    "the higher-degree coefficients have larger impact, which might impair convergence. Hence, it makes\n",
    "sense to regularizate them in a way to dampen gradients of higher degree. In other words, this\n",
    "regularization shifts the optimization of the higher-degree coefficients to later epochs, where the\n",
    "rough shape of the polynomial defined by the lower-degree coefficients brought the polynomial already\n",
    "in a better shape.\n",
    "\n",
    "**Result.** Regularization gives better convergence stability. That is, it allows for higher degrees and higher learning rates. Of course, to profit from this regularization we need polynomials of sufficient degree (e.g., 4). Then for a reasonable number of epochs the regularization improves performance, i.e., lower loss. However, since this regularization only \"steers\" resp. priortizes gradients towards lower degrees, after a very large number of epochs the learning curves approach each other again. (This is also an evidence that our normalization of the gradient weights, to sum up to one, works.) Furthermore, it turns out that SGD with Nesterov momentum does not converge without this regularization. With ADAM the regularization does have no influence.\n",
    "\n",
    "\n",
    "## Learning rate\n",
    "\n",
    "Having regularization turned on increases the possible range of learning rates. A rate of 0.1 turns out reasonable for our examples here. Note that a learning rate > 1.0 is in any case leading to divergence.\n",
    "\n",
    "\n",
    "## Number of points to be approximted\n",
    "\n",
    "Increasing the number of points to be approximated regulates the convergence. However, the effect is mild.\n",
    "\n",
    "\n",
    "## Optimizer\n",
    "\n",
    "Adam rocks. But SGD with appropriate momentum (and Nesterov) is quite competitive. Nesterov momentum gives a smoother decline of loss. However, Nesterov momentum _requires_ the gradient degree regularization in order to converge!\n",
    "\n",
    "## Variation in dataset\n",
    "\n",
    "When adding noise to the dataset both SGD and ADAM are not impaired.\n"
   ]
  },
  {
   "cell_type": "markdown",
   "id": "respiratory-simple",
   "metadata": {},
   "source": [
    "## Data"
   ]
  },
  {
   "cell_type": "code",
   "execution_count": 4,
   "id": "6ab045fd",
   "metadata": {},
   "outputs": [
    {
     "data": {
      "text/plain": "[<matplotlib.lines.Line2D at 0x1ca2fedd580>]"
     },
     "execution_count": 4,
     "metadata": {},
     "output_type": "execute_result"
    },
    {
     "data": {
      "text/plain": "<Figure size 432x288 with 1 Axes>",
      "image/png": "[encoded data removed]"
     },
     "metadata": {
      "needs_background": "light"
     },
     "output_type": "display_data"
    }
   ],
   "source": [
    "xss = np.linspace(0, 0.5*np.pi, 100, dtype=\"double\")\n",
    "\n",
    "# The data set to approximate with x and y samples\n",
    "xs = np.linspace(xss[0], xss[-1], 10)\n",
    "ys = np.array(np.sin(xs))\n",
    "plt.plot(xs, ys, '.')"
   ]
  },
  {
   "cell_type": "code",
   "execution_count": 5,
   "id": "civilian-bench",
   "metadata": {},
   "outputs": [
    {
     "data": {
      "text/plain": "[<matplotlib.lines.Line2D at 0x1ca31fc09d0>]"
     },
     "execution_count": 5,
     "metadata": {},
     "output_type": "execute_result"
    },
    {
     "data": {
      "text/plain": "<Figure size 432x288 with 1 Axes>",
      "image/png": "[encoded data removed]"
     },
     "metadata": {
      "needs_background": "light"
     },
     "output_type": "display_data"
    }
   ],
   "source": [
    "# The data set to approximate with x and y samples\n",
    "xs2 = np.linspace(0, 0.5*np.pi, 20)\n",
    "ys2 = np.sin(xs2)\n",
    "plt.plot(xs2, ys2, '.')"
   ]
  },
  {
   "cell_type": "code",
   "execution_count": 6,
   "id": "wrapped-framing",
   "metadata": {},
   "outputs": [
    {
     "data": {
      "text/plain": "<matplotlib.legend.Legend at 0x1ca320071f0>"
     },
     "execution_count": 6,
     "metadata": {},
     "output_type": "execute_result"
    },
    {
     "data": {
      "text/plain": "<Figure size 432x288 with 1 Axes>",
      "image/png": "[encoded data removed]"
     },
     "metadata": {
      "needs_background": "light"
     },
     "output_type": "display_data"
    }
   ],
   "source": [
    "# Explicit seed to have reproducible testsets\n",
    "np.random.seed(0)\n",
    "ysgauss_scales = [0.0, 0.1, 0.5]\n",
    "ysgauss = [ys + np.random.normal(scale=s, size=len(ys)) for s in ysgauss_scales]\n",
    "\n",
    "for i, ysn in enumerate(ysgauss):\n",
    "    plt.plot(xs, ysn, '-', label='scale %.2g' % ysgauss_scales[i])\n",
    "plt.legend(loc=\"best\")"
   ]
  },
  {
   "cell_type": "markdown",
   "id": "supreme-specialist",
   "metadata": {},
   "source": [
    "## First demo"
   ]
  },
  {
   "cell_type": "code",
   "execution_count": null,
   "id": "fb321aeb",
   "metadata": {},
   "outputs": [],
   "source": [
    "# Fit with default parameters\n",
    "coeffs, losses = fit(xs, ys, degree=6, print_progress=True)\n",
    "coeffs2, losses2 = fit(xs, ys, degree=6, print_progress=True,\\\n",
    "                       optimizer=keras.optimizers.SGD(learning_rate=0.1, momentum=0.95, nesterov=True))\n",
    "coeffs3, losses3 = fit(xs, ys, degree=6, print_progress=True, optimizer=keras.optimizers.Adam(learning_rate=0.1))"
   ]
  },
  {
   "cell_type": "code",
   "execution_count": null,
   "id": "compressed-practitioner",
   "metadata": {},
   "outputs": [],
   "source": [
    "ps = polynomial.evaluate_vect(coeffs, xss)\n",
    "ps2 = polynomial.evaluate_vect(coeffs2, xss)\n",
    "ps3 = polynomial.evaluate_vect(coeffs3, xss)"
   ]
  },
  {
   "cell_type": "code",
   "execution_count": null,
   "id": "451ee7c7",
   "metadata": {},
   "outputs": [],
   "source": [
    "fig, (ax1, ax2) = plt.subplots(1, 2)\n",
    "fig.set_figwidth(12)\n",
    "fig.suptitle(\"Polynomial degree 6\")\n",
    "\n",
    "ax1.plot(xs, ys, '.', c=\"black\")\n",
    "ax1.plot(xss, ps, label=\"SGD, loss=%.4g\" % losses[-1])\n",
    "ax1.plot(xss, ps2, label=\"SGD nesterov, loss=%.4g\" % losses2[-1])\n",
    "ax1.plot(xss, ps3, label=\"ADAM, loss=%.4g\" % losses3[-1])\n",
    "\n",
    "ax1.legend(loc=\"best\")\n",
    "ax1.set_title(\"Approximation result\")\n",
    "\n",
    "ax2.semilogy(losses, label=\"SGD\")\n",
    "ax2.semilogy(losses2, label=\"SGD nesterov\")\n",
    "ax2.semilogy(losses3, label=\"ADAM\")\n",
    "ax2.legend(loc=\"best\")\n",
    "ax2.set_title(\"Loss\")\n",
    "ax2.set_xlabel(\"Epochs\")"
   ]
  },
  {
   "cell_type": "markdown",
   "id": "b10f3c3f",
   "metadata": {},
   "source": [
    "## Investigating epochs, learning rates and regularization"
   ]
  },
  {
   "cell_type": "code",
   "execution_count": null,
   "id": "f27aed7a",
   "metadata": {},
   "outputs": [],
   "source": [
    "kwargs = {\"epochs\": 2000, \"degree\": 6}\n",
    "# These are the learning rates of our experiments\n",
    "lrs = [(10.0**e,) for e in np.arange(-2.0, 0.01, 0.25)]\n",
    "\n",
    "def job(lr):    \n",
    "    print(\".\", end=\"\")\n",
    "    opt = keras.optimizers.SGD(learning_rate=lr)\n",
    "    _, losses_with = fit(xs, ys, regularize_grads_degree=True, optimizer=opt, **kwargs)\n",
    "    \n",
    "    print(\"/\", end=\"\")\n",
    "        \n",
    "    opt = keras.optimizers.SGD(learning_rate=lr)\n",
    "    _, losses_without = fit(xs, ys, regularize_grads_degree=False, optimizer=opt, **kwargs)\n",
    "    \n",
    "    print(\"#\", end=\"\")\n",
    "    \n",
    "    return losses_with, losses_without\n",
    "\n",
    "print(\"Going to run %d jobs in parallel (. for start, / for half-end, # for end):\" % len(lrs))\n",
    "# allres is an array of losses with indices [learning rate, regularization with/without, epoch]\n",
    "allres = np.array(parallel_experiment_execution(job, lrs))\n",
    "\n",
    "# loss_with and loss_without are arrays with indices [learning rate, epoch]\n",
    "loss_with = allres[:,0]\n",
    "loss_without = allres[:,1]"
   ]
  },
  {
   "cell_type": "code",
   "execution_count": null,
   "id": "e584eb39",
   "metadata": {},
   "outputs": [],
   "source": [
    "fig, axes = plt.subplots(1, 4)\n",
    "fig.set_figwidth(16)\n",
    "fig.suptitle(f\"Final losses after some epochs over different learning rates\")\n",
    "\n",
    "for i, epochs in enumerate([10, 100, 250, 1000]):\n",
    "    ax = axes[i]\n",
    "    \n",
    "    ax.set_title(\"%d epochs\" % epochs)\n",
    "    \n",
    "    ax.set_xlabel(\"learning rate\")\n",
    "    ax.loglog(lrs, loss_with[:, epochs-1], label=\"with grad. reg.\")\n",
    "    ax.loglog(lrs, loss_without[:, epochs-1], label=\"without\")\n",
    "    ax.set_ylim([1e-4, 1e-0])\n",
    "    ax.legend(loc=\"best\")"
   ]
  },
  {
   "cell_type": "markdown",
   "id": "3e06b4a7",
   "metadata": {},
   "source": [
    "### Interpretation\n",
    "- As we expect, at some point of the learning rate the final losses diverge. \n",
    "- With regularization we can have larger learning rates.\n",
    "- **A learning rate of 0.1 seems to be a reasonable choice in either case.**"
   ]
  },
  {
   "cell_type": "code",
   "execution_count": null,
   "id": "dfb22e2a",
   "metadata": {},
   "outputs": [],
   "source": [
    "fig, axes = plt.subplots(1, 5)\n",
    "fig.set_figwidth(16)\n",
    "fig.suptitle(f\"Losses over epochs for different learning rates\")\n",
    "\n",
    "for i, lri in enumerate([0, 1, 2, 4, 5]):\n",
    "    ax = axes[i]\n",
    "    lr = lrs[lri]\n",
    "    \n",
    "    ax.set_title(\"learning rate %.2g\" % lr)\n",
    "      \n",
    "    ax.semilogy(loss_with[lri], label=\"with grad. reg.\")\n",
    "    ax.semilogy(loss_without[lri], label=\"without\")\n",
    "    ax.set_ylim([5e-4, 1e-0])\n",
    "    ax.legend(loc=\"best\")"
   ]
  },
  {
   "cell_type": "markdown",
   "id": "47c7f879",
   "metadata": {},
   "source": [
    "### Interpretation\n",
    "- The smaller the learning rate the more epochs we need such that regularization\n",
    "  eventually outperforms without regularization. However, then again with large learning rates\n",
    "  (0.18) and a very large number of epochs (2000) the version without regularization may again\n",
    "  overtake at some point. This is probably also true for smaller learning rates and\n",
    "  a correspondingly larger number of epochs. The reason is probably that the regularization only\n",
    "  introduces some \"priorization\" of the gradients towards lower degrees. So it is only a question\n",
    "  of number epochs until this effect vanishes again.\n",
    "- A learning rate of 0.1, which has before been found to be reasonable, is clearly\n",
    "  large enough such that regularization outperforms without regularization after\n",
    "  already some 250 epochs.\n",
    "- **Activating regulariztion by default is a good choice.**\n",
    "- Having some 500 epochs gives already quite good results."
   ]
  },
  {
   "cell_type": "markdown",
   "id": "governing-jackson",
   "metadata": {},
   "source": [
    "## Investigating polynomial degree"
   ]
  },
  {
   "cell_type": "code",
   "execution_count": null,
   "id": "sporting-photography",
   "metadata": {},
   "outputs": [],
   "source": [
    "kwargs = {\"epochs\": 1000}\n",
    "# These are the polynomial degrees\n",
    "degrees = [(d,) for d in range(1, 9)]\n",
    "\n",
    "def job(degree):    \n",
    "    print(\".\", end=\"\")\n",
    "    coeffs_with, losses_with = fit(xs, ys, degree=degree, regularize_grads_degree=True, **kwargs)\n",
    "    \n",
    "    print(\"/\", end=\"\")\n",
    "    coeffs_without, losses_without = fit(xs, ys, degree=degree, regularize_grads_degree=False, **kwargs)\n",
    "    \n",
    "    print(\"#\", end=\"\")\n",
    "    \n",
    "    return losses_with, losses_without, coeffs_with, coeffs_without\n",
    "\n",
    "print(\"Going to run %d jobs in parallel (. for start, / for half-end, # for end):\" % len(degrees))\n",
    "allres = parallel_experiment_execution(job, degrees)\n",
    "    \n",
    "# loss_with and loss_without are arrays with indices [degree, epoch]\n",
    "loss_with = [r[0] for r in allres]\n",
    "loss_without = [r[1] for r in allres]\n",
    "# coeffs_with and coeffs_without are arrays with indices [degree, coeff]\n",
    "coeffs_with = [r[2] for r in allres]\n",
    "coeffs_without = [r[3] for r in allres]"
   ]
  },
  {
   "cell_type": "code",
   "execution_count": null,
   "id": "enabling-hopkins",
   "metadata": {},
   "outputs": [],
   "source": [
    "fig, (ax1,ax2) = plt.subplots(1, 2)\n",
    "fig.set_figwidth(12)\n",
    "fig.set_figheight(6)\n",
    "fig.suptitle(\"Final epoch polynomials\")\n",
    "\n",
    "ax1.set_title(\"with regularization\")\n",
    "ax2.set_title(\"without regularization\")\n",
    "\n",
    "for i, (d,) in enumerate(degrees):\n",
    "    \n",
    "    ps = polynomial.evaluate_vect(coeffs_with[i], xss)\n",
    "    ax1.plot(xss, ps, label=\"deg %d, loss=%.4g\" % (d, loss_with[i][-1]))\n",
    "\n",
    "    ps = polynomial.evaluate_vect(coeffs_without[i], xss)\n",
    "    ax2.plot(xss, ps, label=\"deg %d, loss=%.4g\" % (d, loss_without[i][-1]))\n",
    "      \n",
    "\n",
    "for ax in [ax1, ax2]:\n",
    "    ax.plot(xs, ys, \".\", c=\"black\")\n",
    "    ax.legend(loc=\"best\")\n",
    "    ax.set_ylim((-0.1, 1.1))"
   ]
  },
  {
   "cell_type": "markdown",
   "id": "disabled-mount",
   "metadata": {},
   "source": [
    "### Interpretation\n",
    "\n",
    "- **With regularization we can reach higher polynomial degrees.** Rationale: Once the lower-degree coefficients have brought the polynomial in rough shape then we can optimize the higher-degree coefficients more safely.\n",
    "- However, the best result is obtained with a degree-3 polynomial. This comes at no surprise, because this data set displays **\"low model complexity\"**, so a lower degree polynomial will do better.\n",
    "  Hence, we may need to look for more complex input data (like adding noise!) to showcase the usage of higher-degree polynomials. Or better: Later we will tune the optimizers that produce results closer to the optimum. And of course then we have: Higher degree is better."
   ]
  },
  {
   "cell_type": "code",
   "execution_count": null,
   "id": "driving-beach",
   "metadata": {},
   "outputs": [],
   "source": [
    "fig, axes = plt.subplots(2, (len(degrees) + 1)//2)\n",
    "axes = axes.flatten()\n",
    "fig.set_figwidth(len(degrees)*2)\n",
    "fig.set_figheight(6)\n",
    "fig.suptitle(\"Losses over epochs for different polynomial degrees\")\n",
    "\n",
    "for i, d in enumerate(degrees):\n",
    "    ax = axes[i]\n",
    "    \n",
    "    ax.set_title(\"degree %d\" % d)\n",
    "      \n",
    "    ax.semilogy(loss_with[i], label=\"with grad. reg.\")\n",
    "    ax.semilogy(loss_without[i], label=\"without\")\n",
    "    ax.set_ylim([5e-4, 1e-0])\n",
    "    ax.legend(loc=\"best\")"
   ]
  },
  {
   "cell_type": "markdown",
   "id": "moved-stretch",
   "metadata": {},
   "source": [
    "### Interpretation\n",
    "- **For degrees larger than three the regularization leads to better results.** (We know from earlier experiments that for a very large number of epocs this advantage will vanish again.)\n",
    "- Of course, we would now reduce the learning rate to help higher degree polynomials to converge. But at the moment I do not see a point in doing this obvious experiment."
   ]
  },
  {
   "cell_type": "code",
   "execution_count": null,
   "id": "educational-computer",
   "metadata": {},
   "outputs": [],
   "source": [
    "kwargs = {\"epochs\": 100}\n",
    "# These are the polynomial degrees\n",
    "degrees = range(1, 9)\n",
    "# These are the learning rates of our experiments\n",
    "lrs = [10.0**e for e in np.arange(-2.0, 0.01, 0.25)]\n",
    "\n",
    "def job(degree, lr):        \n",
    "    nkwargs = kwargs\n",
    "    nkwargs[\"degree\"] = int(degree)\n",
    "    \n",
    "    print(\".\", end=\"\")\n",
    "    opt = keras.optimizers.SGD(learning_rate=lr)\n",
    "    _, losses_with = fit(xs, ys, regularize_grads_degree=True, optimizer=opt, **nkwargs)\n",
    "    \n",
    "    print(\"/\", end=\"\")\n",
    "    opt = keras.optimizers.SGD(learning_rate=lr)\n",
    "    _, losses_without = fit(xs, ys, regularize_grads_degree=False, optimizer=opt, **nkwargs)\n",
    "    \n",
    "    print(\"#\", end=\"\")\n",
    "    \n",
    "    return losses_with, losses_without\n",
    "\n",
    "args = [(d, lr) for d in degrees for lr in lrs]\n",
    "print(\"Going to run %d jobs in parallel (. for start, / for half-end, # for end):\" % len(args))\n",
    "allres = parallel_experiment_execution(job, args)\n",
    "\n",
    "# Restore initial two dimensions [degree, learningrate, with/without reg, losses]\n",
    "allres = np.array(allres)\n",
    "allres = allres.reshape(len(degrees), len(lrs), *allres.shape[-2:])"
   ]
  },
  {
   "cell_type": "code",
   "execution_count": null,
   "id": "considered-evaluation",
   "metadata": {},
   "outputs": [],
   "source": [
    "fig, axes = plt.subplots(2, (len(degrees) + 1)//2)\n",
    "axes = axes.flatten()\n",
    "fig.set_figwidth(len(degrees)*2)\n",
    "fig.set_figheight(6)\n",
    "fig.suptitle(\"Losses over learning rates after %d epochs for different polynomial degrees\" % kwargs[\"epochs\"])\n",
    "\n",
    "for i, d in enumerate(degrees):\n",
    "    ax = axes[i]\n",
    "    \n",
    "    ax.set_title(\"degree %d\" % d)\n",
    "    \n",
    "    loss_with = allres[i,:,0,-1]\n",
    "    loss_without = allres[i,:,1,-1]\n",
    "      \n",
    "    ax.loglog(lrs, loss_with, label=\"with grad. reg.\")\n",
    "    ax.loglog(lrs, loss_without, label=\"without\")\n",
    "    ax.set_ylim([1e-3, 1e-0])\n",
    "    ax.legend(loc=\"best\")"
   ]
  },
  {
   "cell_type": "markdown",
   "id": "existing-interval",
   "metadata": {},
   "source": [
    "### Interpretation\n",
    "- Here we see how the boundary of working learning rates shifts to the left when the polynomial degree increases.\n",
    "- Regularization improves the situation. A learning rate of 0.1 is a boundary case for degree-7 polynomials.\n",
    "- Also interesting: Best case here is degree-4 with regularization at a learnin rate of 0.56. It is not degree-3, because degree-3 is best if we fix the learning rate."
   ]
  },
  {
   "cell_type": "markdown",
   "id": "arranged-provincial",
   "metadata": {},
   "source": [
    "## Investigating numer of input points"
   ]
  },
  {
   "cell_type": "code",
   "execution_count": null,
   "id": "equivalent-healing",
   "metadata": {},
   "outputs": [],
   "source": [
    "kwargs = {\"epochs\": 1000}\n",
    "# These are the polynomial degrees\n",
    "degrees = [(d,) for d in range(1, 9)]\n",
    "\n",
    "def job(degree):    \n",
    "    print(\".\", end=\"\")\n",
    "    coeffs_with, losses_with = fit(xs2, ys2, degree=degree, regularize_grads_degree=True, **kwargs)\n",
    "    \n",
    "    print(\"/\", end=\"\")\n",
    "    coeffs_without, losses_without = fit(xs2, ys2, degree=degree, regularize_grads_degree=False, **kwargs)\n",
    "    \n",
    "    print(\"#\", end=\"\")\n",
    "    \n",
    "    return losses_with, losses_without, coeffs_with, coeffs_without\n",
    "\n",
    "print(\"Going to run %d jobs in parallel (. for start, / for half-end, # for end):\" % len(degrees))\n",
    "allres = parallel_experiment_execution(job, degrees)\n",
    "    \n",
    "# loss_with and loss_without are arrays with indices [degree, epoch]\n",
    "loss_with = [r[0] for r in allres]\n",
    "loss_without = [r[1] for r in allres]\n",
    "# coeffs_with and coeffs_without are arrays with indices [degree, coeff]\n",
    "coeffs_with = [r[2] for r in allres]\n",
    "coeffs_without = [r[3] for r in allres]"
   ]
  },
  {
   "cell_type": "code",
   "execution_count": null,
   "id": "square-trading",
   "metadata": {},
   "outputs": [],
   "source": [
    "fig, (ax1,ax2) = plt.subplots(1, 2)\n",
    "fig.set_figwidth(12)\n",
    "fig.set_figheight(6)\n",
    "fig.suptitle(\"Final epoch polynomials\")\n",
    "\n",
    "ax1.set_title(\"with regularization\")\n",
    "ax2.set_title(\"without regularization\")\n",
    "\n",
    "for i, (d,) in enumerate(degrees):\n",
    "    \n",
    "    ps = polynomial.evaluate_vect(coeffs_with[i], xss)\n",
    "    ax1.plot(xss, ps, label=\"deg %d, loss=%.4g\" % (d, loss_with[i][-1]))\n",
    "    \n",
    "    ps = polynomial.evaluate_vect(coeffs_without[i], xss)\n",
    "    ax2.plot(xss, ps, label=\"deg %d, loss=%.4g\" % (d, loss_without[i][-1]))\n",
    "      \n",
    "\n",
    "for ax in [ax1, ax2]:\n",
    "    ax.plot(xs2, ys2, \".\", c=\"black\")\n",
    "    ax.legend(loc=\"best\")\n",
    "    ax.set_ylim((-0.1, 1.1))"
   ]
  },
  {
   "cell_type": "markdown",
   "id": "bizarre-october",
   "metadata": {},
   "source": [
    "### Interpretation\n",
    "- Increasing the numer of input points to 20 **improves convergence**, e.g., in both cases we can have a degree higher. This is not surprising: If we have d+1 points for a polynomial of degree d then the optimal solution is the interpolation polynomial. This polynomial has tendency to oscillate (for higher degrees). Adding more input points would dampen this oscillation as otherwise the L2-error with increase.\n",
    "- With regularization turned on the **degree-4 polynomial is now a clear favorite**. And it is close to the best solution: degree-3 without regularizaion. Also the additional number of points makes it harder for the degree-3 polynomial to fit well."
   ]
  },
  {
   "cell_type": "code",
   "execution_count": null,
   "id": "advised-bristol",
   "metadata": {},
   "outputs": [],
   "source": [
    "fig, axes = plt.subplots(2, (len(degrees) + 1)//2)\n",
    "axes = axes.flatten()\n",
    "fig.set_figwidth(len(degrees)*2)\n",
    "fig.set_figheight(6)\n",
    "fig.suptitle(\"Losses over epochs for different polynomial degrees\")\n",
    "\n",
    "for i, (d,) in enumerate(degrees):\n",
    "    ax = axes[i]\n",
    "    \n",
    "    ax.set_title(\"degree %d\" % d)\n",
    "      \n",
    "    ax.semilogy(loss_with[i], label=\"with grad. reg.\")\n",
    "    ax.semilogy(loss_without[i], label=\"without\")\n",
    "    ax.set_ylim([5e-4, 1e-0])\n",
    "    ax.legend(loc=\"best\")"
   ]
  },
  {
   "cell_type": "markdown",
   "id": "czech-assets",
   "metadata": {},
   "source": [
    "### Interpretation\n",
    "- The learning curves support our interpretation from above. Only with a larger number of epochs the degree-3 polynomial is probably getting better more clearly again because its curves are steeper."
   ]
  },
  {
   "cell_type": "code",
   "execution_count": null,
   "id": "conditional-grill",
   "metadata": {},
   "outputs": [],
   "source": [
    "kwargs = {\"epochs\": 100}\n",
    "# These are the polynomial degrees\n",
    "numpoints = [4, 10, 20, 50, 100]\n",
    "# These are the learning rates of our experiments\n",
    "lrs = [10.0**e for e in np.arange(-2.0, 0.01, 0.25)]\n",
    "\n",
    "def job(numpoints, lr):   \n",
    "    nkwargs = kwargs\n",
    "    nkwargs[\"degree\"] = 6\n",
    "        \n",
    "    xs_ = np.linspace(0, 0.5*np.pi, int(numpoints))\n",
    "    ys_ = np.sin(xs_)\n",
    "    \n",
    "    print(\".\", end=\"\")\n",
    "    opt = keras.optimizers.SGD(learning_rate=lr)\n",
    "    _, losses_with = fit(xs_, ys_, regularize_grads_degree=True, optimizer=opt, **nkwargs)\n",
    "    \n",
    "    print(\"/\", end=\"\")\n",
    "    opt = keras.optimizers.SGD(learning_rate=lr)\n",
    "    _, losses_without = fit(xs_, ys_, regularize_grads_degree=False, optimizer=opt, **nkwargs)\n",
    "    \n",
    "    print(\"#\", end=\"\")\n",
    "    \n",
    "    return losses_with, losses_without\n",
    "\n",
    "args = [(n, lr) for n in numpoints for lr in lrs]\n",
    "print(\"Going to run %d jobs in parallel (. for start, / for half-end, # for end):\" % len(args))\n",
    "allres = parallel_experiment_execution(job, args)\n",
    "\n",
    "# Restore initial two dimensions [numpoints, learningrate, with/without reg, losses]\n",
    "allres = np.array(allres)\n",
    "allres = allres.reshape(len(numpoints), len(lrs), *allres.shape[-2:])"
   ]
  },
  {
   "cell_type": "code",
   "execution_count": null,
   "id": "medieval-analyst",
   "metadata": {},
   "outputs": [],
   "source": [
    "fig, axes = plt.subplots(1, len(numpoints))\n",
    "fig.set_figwidth(len(numpoints)*6)\n",
    "#fig.set_figheight(6)\n",
    "fig.suptitle(\"Losses over learning rates after %d epochs with different number of points\" % kwargs[\"epochs\"])\n",
    "\n",
    "for i, n in enumerate(numpoints):\n",
    "    ax = axes[i]\n",
    "    \n",
    "    ax.set_title(\"number of points %d\" % n)\n",
    "    \n",
    "    loss_with = allres[i,:,0,-1]\n",
    "    loss_without = allres[i,:,1,-1]\n",
    "      \n",
    "    ax.loglog(lrs, loss_with, label=\"with grad. reg.\")\n",
    "    ax.loglog(lrs, loss_without, label=\"without\")\n",
    "    ax.set_ylim([1e-3, 1e-0])\n",
    "    ax.legend(loc=\"best\")"
   ]
  },
  {
   "cell_type": "markdown",
   "id": "indian-combine",
   "metadata": {},
   "source": [
    "### Interpretation\n",
    "- Here we see how an increasing numer of points has a positive effect on convergence, i.e., we can have higher learning rates if we have a larger number of points. However, the effect is actually moderately small.\n",
    "- Interestingly, also with less than d+1 points (which would be 7 here), the method converges. But probably the polynomials are oscillating and a regulation by (square) total curvature would be needed."
   ]
  },
  {
   "cell_type": "markdown",
   "id": "warming-manual",
   "metadata": {},
   "source": [
    "## Investigating optimizers"
   ]
  },
  {
   "cell_type": "code",
   "execution_count": null,
   "id": "resident-motorcycle",
   "metadata": {},
   "outputs": [],
   "source": [
    "kwargs = {\"epochs\": 500}\n",
    "opt_kwargs = {\"learning_rate\" : 0.1}\n",
    "\n",
    "optimizer_creators = {\n",
    "    \"sgd\" : lambda : keras.optimizers.SGD(**opt_kwargs),\n",
    "    \"sgd-momentum\" : lambda : keras.optimizers.SGD(momentum=0.95, **opt_kwargs),\n",
    "    \"sgd-momentum-nesterov\" : lambda **kwargs : keras.optimizers.SGD(momentum=0.95, nesterov=True, **opt_kwargs),\n",
    "    \"adam\" : lambda : keras.optimizers.Adam(**opt_kwargs),\n",
    "    \"adam-amsgrad\" : lambda : keras.optimizers.Adam(amsgrad=True, **opt_kwargs),\n",
    "    \"adamax\" : lambda : keras.optimizers.Adamax(**opt_kwargs),\n",
    "    \"nadam\" : lambda : keras.optimizers.Nadam(**opt_kwargs),\n",
    "    \"ftrl\" : lambda : keras.optimizers.Ftrl(**opt_kwargs),\n",
    "    \"rmsprop\" : lambda : keras.optimizers.RMSprop(**opt_kwargs),\n",
    "}\n",
    "optimizers = [(o,) for o in optimizer_creators.keys()]\n",
    "\n",
    "def job(optimizer):\n",
    "    nkwargs = kwargs\n",
    "    nkwargs[\"degree\"] = 6\n",
    "        \n",
    "    print(\".\", end=\"\")\n",
    "    opt = optimizer_creators[optimizer]()\n",
    "    _, losses_with = fit(xs, ys, regularize_grads_degree=True, optimizer=opt, **nkwargs)\n",
    "    \n",
    "    print(\"/\", end=\"\")\n",
    "    opt = optimizer_creators[optimizer]()\n",
    "    _, losses_without = fit(xs, ys, regularize_grads_degree=False, optimizer=opt, **nkwargs)\n",
    "    \n",
    "    print(\"#\", end=\"\")\n",
    "    \n",
    "    return losses_with, losses_without\n",
    "\n",
    "print(\"Going to run %d jobs in parallel (. for start, / for half-end, # for end):\" % len(optimizers))\n",
    "allres = parallel_experiment_execution(job, optimizers)\n",
    "allres = np.array(allres)"
   ]
  },
  {
   "cell_type": "code",
   "execution_count": null,
   "id": "alpha-squad",
   "metadata": {},
   "outputs": [],
   "source": [
    "fig, axes = plt.subplots(3, (len(optimizers)+2)//3)\n",
    "axes = axes.flatten()\n",
    "fig.set_figwidth(len(optimizers)*3)\n",
    "fig.set_figheight(12)\n",
    "fig.suptitle(\"Losses over epochs with different optimizers with learning rate %.4g\" % (opt_kwargs[\"learning_rate\"]))\n",
    "\n",
    "for i, opt in enumerate(optimizers):\n",
    "    ax = axes[i]\n",
    "    \n",
    "    ax.set_title(\"%s\" % opt)\n",
    "    \n",
    "    loss_with = allres[i,0]\n",
    "    loss_without = allres[i,1]\n",
    "      \n",
    "    ax.semilogy(loss_with, label=\"with grad. reg.\")\n",
    "    ax.semilogy(loss_without, label=\"without\")\n",
    "    ax.set_ylim([1e-5, 1e-0])\n",
    "    ax.legend(loc=\"best\")"
   ]
  },
  {
   "cell_type": "markdown",
   "source": [
    "### Non-parallel version to recreate reduced plot for journal paper on Windows"
   ],
   "metadata": {
    "collapsed": false,
    "pycharm": {
     "name": "#%% md\n"
    }
   }
  },
  {
   "cell_type": "code",
   "execution_count": 7,
   "outputs": [
    {
     "name": "stdout",
     "output_type": "stream",
     "text": [
      "./#./#./#./#"
     ]
    }
   ],
   "source": [
    "kwargs = {\"epochs\": 5000}\n",
    "opt_kwargs = {\"learning_rate\" : 0.1}\n",
    "\n",
    "optimizer_creators = {\n",
    "    \"sgd-momentum\" : lambda : keras.optimizers.SGD(momentum=0.95, **opt_kwargs),\n",
    "    \"sgd-momentum-nesterov\" : lambda **kwargs : keras.optimizers.SGD(momentum=0.95, nesterov=True, **opt_kwargs),\n",
    "    \"adam\" : lambda : keras.optimizers.Adam(**opt_kwargs),\n",
    "    \"adam-amsgrad\" : lambda : keras.optimizers.Adam(amsgrad=True, **opt_kwargs)\n",
    "}\n",
    "optimizers = [(o,) for o in optimizer_creators.keys()]\n",
    "\n",
    "allres = []\n",
    "kwargs[\"degree\"] = 6\n",
    "\n",
    "for o in optimizer_creators:\n",
    "    opt = optimizer_creators[o]()\n",
    "    print(\".\", end=\"\")\n",
    "    _, losses_with = fit(xs, ys, regularize_grads_degree=True, optimizer=opt, **kwargs)\n",
    "    print(\"/\", end=\"\")\n",
    "    opt = optimizer_creators[o]()\n",
    "    _, losses_without = fit(xs, ys, regularize_grads_degree=False, optimizer=opt, **kwargs)\n",
    "    print(\"#\", end=\"\")\n",
    "    allres.append((losses_with, losses_without))\n",
    "\n",
    "allres = np.array(allres)"
   ],
   "metadata": {
    "collapsed": false,
    "pycharm": {
     "name": "#%%\n"
    }
   }
  },
  {
   "cell_type": "code",
   "execution_count": 11,
   "outputs": [
    {
     "data": {
      "text/plain": "<Figure size 864x576 with 4 Axes>",
      "image/png": "[encoded data removed]"
     },
     "metadata": {
      "needs_background": "light"
     },
     "output_type": "display_data"
    }
   ],
   "source": [
    "fig, axes = plt.subplots(2, 2)\n",
    "axes = axes.flatten()\n",
    "fig.set_figwidth(len(optimizers)*3)\n",
    "fig.set_figheight(8)\n",
    "#fig.suptitle(\"Losses over epochs with different optimizers with learning rate %.4g\" % (opt_kwargs[\"learning_rate\"]))\n",
    "\n",
    "for i, opt in enumerate(optimizers):\n",
    "    ax = axes[i]\n",
    "\n",
    "    ax.set_title(\"%s\" % opt)\n",
    "\n",
    "    loss_with = allres[i,0]\n",
    "    loss_without = allres[i,1]\n",
    "\n",
    "    ax.semilogy(loss_with, label=\"with grad. reg.\")\n",
    "    ax.semilogy(loss_without, label=\"without\")\n",
    "    ax.set_ylim([1e-7, 1e-0])\n",
    "    ax.legend(loc=\"best\")\n",
    "\n",
    "plt.savefig('optimizers-overview.pdf', format='pdf', bbox_inches='tight')"
   ],
   "metadata": {
    "collapsed": false,
    "pycharm": {
     "name": "#%%\n"
    }
   }
  },
  {
   "cell_type": "markdown",
   "id": "residential-vatican",
   "metadata": {},
   "source": [
    "### Interpretation\n",
    "- Nadam becomes instable for higher learning rates, e.g., 0.1 or 0.05. It works for 0.01\n",
    "- RMSprop is instable for higher learning rates, e.g., 0.1 or 0.05. It works for 0.01.\n",
    "- **Gradient degree regularization becomes irrelevant** for the adam-type optimizers and for sgd with nesterov momentum."
   ]
  },
  {
   "cell_type": "markdown",
   "id": "willing-meter",
   "metadata": {},
   "source": [
    "## Investigating momentum of SGD"
   ]
  },
  {
   "cell_type": "code",
   "execution_count": null,
   "id": "flush-horizon",
   "metadata": {},
   "outputs": [],
   "source": [
    "kwargs = {\"epochs\": 500, \"degree\": 6, \"regularize_grads_degree\": True}\n",
    "# Momentum values\n",
    "momentums = [(m,) for m in [0.0, 0.75, 0.9, 0.95, 0.98]]\n",
    "\n",
    "def job(m):\n",
    "    print(\".\", end=\"\")\n",
    "    opt = keras.optimizers.SGD(momentum=m, learning_rate=0.1)\n",
    "    coeffs, losses_without = fit(xs, ys, optimizer=opt, **kwargs)\n",
    "    \n",
    "    print(\"/\", end=\"\")\n",
    "    \n",
    "    opt = keras.optimizers.SGD(momentum=m, learning_rate=0.1, nesterov=True)\n",
    "    coeffs, losses_with = fit(xs, ys, optimizer=opt, **kwargs)    \n",
    "    print(\"#\", end=\"\")\n",
    "    \n",
    "    return losses_without, losses_with\n",
    "\n",
    "print(\"Going to run %d jobs in parallel (. for start, / for half-end, # for end):\" % len(momentums))\n",
    "allres = parallel_experiment_execution(job, momentums)\n",
    "allres = np.array(allres)"
   ]
  },
  {
   "cell_type": "code",
   "execution_count": null,
   "id": "educated-methodology",
   "metadata": {},
   "outputs": [],
   "source": [
    "fig, (ax1,ax2) = plt.subplots(1, 2)\n",
    "fig.set_figwidth(len(momentums)*3)\n",
    "fig.suptitle(\"Losses over epochs with SGD and different momentum values\")\n",
    "\n",
    "for i, (m,) in enumerate(momentums):                 \n",
    "    ax1.semilogy(allres[i,0], label=\"momentum %.2g\" % m)\n",
    "    ax2.semilogy(allres[i,1], label=\"momentum %.2g\" % m)\n",
    "\n",
    "for ax in (ax1, ax2):\n",
    "    ax.set_ylim([1e-5, 1e-0])\n",
    "    ax.legend(loc=\"best\")\n",
    "    \n",
    "ax1.set_title(\"Without Nesterov\")\n",
    "ax2.set_title(\"With Nesterov\")"
   ]
  },
  {
   "cell_type": "markdown",
   "id": "environmental-cinema",
   "metadata": {},
   "source": [
    "### Interpretation\n",
    "- **Nesterov momentum without gradient degree regularization fails!** Without Nesterov, convergence works in both cases, but loss is better with regularization turned on.\n",
    "- Choosing an appropriate momentum value makes SGD competitive with ADAM. **A momentum of 0.95 seams reasonable.**\n",
    "- Using Nesterov leads to smoother declines of the loss function."
   ]
  },
  {
   "cell_type": "markdown",
   "id": "hungarian-ambassador",
   "metadata": {},
   "source": [
    "## Investigating ADAM"
   ]
  },
  {
   "cell_type": "code",
   "execution_count": null,
   "id": "sapphire-water",
   "metadata": {},
   "outputs": [],
   "source": [
    "kwargs = {\"epochs\": 100, \"degree\": 6}\n",
    "# These are the learning rates of our experiments\n",
    "lrs = [(10.0**e,) for e in np.arange(-2.0, 0.01, 0.1)]\n",
    "\n",
    "def job(lr):\n",
    "    print(\".\", end=\"\")\n",
    "    opt = keras.optimizers.Adam(learning_rate=lr)\n",
    "    coeffs, losses_without = fit(xs, ys, optimizer=opt, regularize_grads_degree=False, **kwargs)\n",
    "    \n",
    "    print(\"/\", end=\"\")\n",
    "    \n",
    "    opt = keras.optimizers.Adam(learning_rate=lr)\n",
    "    coeffs, losses_with = fit(xs, ys, optimizer=opt, regularize_grads_degree=True, **kwargs)    \n",
    "    print(\"#\", end=\"\")\n",
    "    \n",
    "    return losses_without, losses_with\n",
    "\n",
    "print(\"Going to run %d jobs in parallel (. for start, / for half-end, # for end):\" % len(lrs))\n",
    "allres = parallel_experiment_execution(job, lrs)\n",
    "allres = np.array(allres)"
   ]
  },
  {
   "cell_type": "code",
   "execution_count": null,
   "id": "covered-hamilton",
   "metadata": {},
   "outputs": [],
   "source": [
    "fig, ax = plt.subplots(1, 1)\n",
    "#fig.set_figwidth(len(momentums)*3)\n",
    "fig.suptitle(\"Final loss after %d epochs over learning rate\" % kwargs[\"epochs\"])\n",
    "\n",
    "ax.loglog(lrs, allres[:,0,-1], label=\"without\")\n",
    "ax.loglog(lrs, allres[:,1,-1], label=\"with grad. reg.\")\n",
    "ax.set_xlabel(\"learning rate\")\n",
    "ax.set_ylabel(\"final loss\")\n",
    "ax.legend(loc=\"best\")"
   ]
  },
  {
   "cell_type": "markdown",
   "id": "signed-commissioner",
   "metadata": {},
   "source": [
    "### Interpretation\n",
    "- ADAM is quite robust about choosing too large learning rate\n",
    "- Learning rate of 0.1 is a very good choice.\n",
    "- Regularization does not matter"
   ]
  },
  {
   "cell_type": "code",
   "execution_count": null,
   "id": "derived-picture",
   "metadata": {},
   "outputs": [],
   "source": [
    "kwargs = {\"epochs\": 400, \"degree\": 6}\n",
    "# These are the learning rates of our experiments\n",
    "beta_1s = [(b,) for b in np.arange(0.6, 1.001, 0.1)]\n",
    "\n",
    "def job(beta1):\n",
    "    print(\".\", end=\"\")\n",
    "    opt = keras.optimizers.Adam(beta_1=beta1, learning_rate=0.1)\n",
    "    coeffs, losses_without = fit(xs, ys, optimizer=opt, regularize_grads_degree=False, **kwargs)\n",
    "    \n",
    "    print(\"/\", end=\"\")\n",
    "    \n",
    "    opt = keras.optimizers.Adam(beta_1=beta1, learning_rate=0.1)\n",
    "    coeffs, losses_with = fit(xs, ys, optimizer=opt, regularize_grads_degree=True, **kwargs)    \n",
    "    print(\"#\", end=\"\")\n",
    "    \n",
    "    return losses_without, losses_with\n",
    "\n",
    "print(\"Going to run %d jobs in parallel (. for start, / for half-end, # for end):\" % len(beta_1s))\n",
    "allres = parallel_experiment_execution(job, beta_1s)\n",
    "allres = np.array(allres)"
   ]
  },
  {
   "cell_type": "code",
   "execution_count": null,
   "id": "remarkable-functionality",
   "metadata": {},
   "outputs": [],
   "source": [
    "fig, (ax1,ax2) = plt.subplots(1, 2)\n",
    "fig.set_figwidth(10)\n",
    "fig.suptitle(\"Losses over epochs with ADAM and different beta_1 values\")\n",
    "\n",
    "for i, (b1,) in enumerate(beta_1s):                 \n",
    "    ax1.semilogy(allres[i,0], label=\"beta1 %.2g\" % b1)\n",
    "    ax2.semilogy(allres[i,1], label=\"beta1 %.2g\" % b1)\n",
    "\n",
    "for ax in (ax1, ax2):\n",
    "    ax.set_ylim([1e-5, 1e-0])\n",
    "    ax.legend(loc=\"best\")\n",
    "    \n",
    "ax1.set_title(\"Without regularization\")\n",
    "ax2.set_title(\"With regularization\")"
   ]
  },
  {
   "cell_type": "markdown",
   "id": "bibliographic-provider",
   "metadata": {},
   "source": [
    "### Interpretation\n",
    "- Again, regularization does not matter.\n",
    "- Choosing beta1 too large or too small causes instabilities.\n",
    "- The default of 0.9 is quite good. Choosing 0.8 gives better performance at first, but then, quite lately, it becomes instable."
   ]
  },
  {
   "cell_type": "markdown",
   "id": "parental-provincial",
   "metadata": {},
   "source": [
    "## Stability under noise for SGD with Nesterov momentum"
   ]
  },
  {
   "cell_type": "code",
   "execution_count": null,
   "id": "acute-promise",
   "metadata": {},
   "outputs": [],
   "source": [
    "kwargs = {\"epochs\": 400, \"degree\": 6}\n",
    "idxs = [(i,) for i in range(len(ysgauss))]\n",
    "\n",
    "def job(idx):\n",
    "    print(\".\", end=\"\")\n",
    "    opt = keras.optimizers.SGD(learning_rate=0.1, momentum=0.95, nesterov=True)\n",
    "    coeffs, losses = fit(xs, ysgauss[idx], optimizer=opt, **kwargs)    \n",
    "    print(\"#\", end=\"\")\n",
    "    \n",
    "    return coeffs, losses\n",
    "\n",
    "print(\"Going to run %d jobs in parallel (. for start, # for end):\" % len(idxs))\n",
    "allres = parallel_experiment_execution(job, idxs)"
   ]
  },
  {
   "cell_type": "code",
   "execution_count": null,
   "id": "expected-reliance",
   "metadata": {},
   "outputs": [],
   "source": [
    "fig, (ax1, ax2) = plt.subplots(1, 2)\n",
    "fig.set_figwidth(10)\n",
    "fig.suptitle(\"SGD with mommentum and Nesterov for different noise levels\")\n",
    "colcycle = iter(mpl.rcParams['axes.prop_cycle'])\n",
    "\n",
    "for i, (coeffs, losses) in enumerate(allres):\n",
    "    col = next(colcycle)[\"color\"]\n",
    "    ps = polynomial.evaluate_vect(coeffs, xss)\n",
    "    ysg = ysgauss[i]\n",
    "    scale = ysgauss_scales[i]\n",
    "    \n",
    "    optcoeff = polynomial.l2minmizer(xs, ysg, kwargs[\"degree\"])\n",
    "    psopt = polynomial.evaluate_vect(optcoeff, xss)\n",
    "    optloss = l2_sq_loss(optcoeff, xs, ysg)\n",
    "        \n",
    "    ax1.plot(xs, ysg, '.', c=col)\n",
    "    ax1.plot(xss, ps, label=\"scale %.2g\" % scale, c=col)\n",
    "    ax1.plot(xss, psopt, c=col, linestyle=\"--\", alpha=0.2) \n",
    "    \n",
    "    ax2.semilogy(losses, label=\"scale %g, opterr=%.2g\" % (scale, optloss), c=col)\n",
    "    ax2.hlines(optloss, xmin=0, xmax=kwargs[\"epochs\"], linestyle=\"--\", color=col, alpha=0.2)    \n",
    "    \n",
    "ax1.set_title(\"Final results\")\n",
    "ax2.set_title(\"Losses approaching dashed optima\")\n",
    "ax2.set_ylim([1e-5,None])\n",
    "\n",
    "for ax in (ax1, ax2):\n",
    "    ax.legend(loc=\"best\")"
   ]
  },
  {
   "cell_type": "markdown",
   "id": "modified-sensitivity",
   "metadata": {},
   "source": [
    "### Interpretation\n",
    "- Without noise the optimal error is basically zero.\n",
    "- With noise SGD is approaching the optimum, but does not reach it. The gap is only significant for larger noise levels, but in practice we would not try to regress such a point cloud with such a polynomial. In this experiment we only investigated whether it would converge at all.\n",
    "- Furthermore, for scale=0.5, the optimum is already showing **significant oscillation**. Hence, in the application domain of cam design, this is actually not favorable and hence we do not care so much. If we add a measurement of oscillation to the loss then the optimum would actually be closer to our iterative solutions.\n",
    "- Below we see that we get basically the same results for ADAM."
   ]
  },
  {
   "cell_type": "code",
   "execution_count": null,
   "id": "atlantic-consumer",
   "metadata": {},
   "outputs": [],
   "source": [
    "kwargs = {\"epochs\": 100, \"degree\": 6}\n",
    "# These are the learning rates of our experiments\n",
    "lrs = [10.0**e for e in np.arange(-2.0, 0.01, 0.1)]\n",
    "idxs = [i for i in range(len(ysgauss))]\n",
    "\n",
    "def job(lr, idx):\n",
    "    print(\".\", end=\"\")\n",
    "    opt = keras.optimizers.SGD(learning_rate=lr, momentum=0.95, nesterov=True)\n",
    "    _, losses_with = fit(xs, ysgauss[idx], optimizer=opt, regularize_grads_degree=True, **kwargs)\n",
    "    \n",
    "    print(\"/\", end=\"\")\n",
    "    \n",
    "    opt = keras.optimizers.SGD(learning_rate=lr, momentum=0.95, nesterov=True)\n",
    "    _, losses_without = fit(xs, ysgauss[idx], optimizer=opt, regularize_grads_degree=False, **kwargs)    \n",
    "    \n",
    "    print(\"#\", end=\"\")\n",
    "    \n",
    "    return losses_with, losses_without\n",
    "\n",
    "args = [(lr, i) for i in idxs for lr in lrs]\n",
    "print(\"Going to run %d jobs in parallel (. for start, / for half-end, # for end):\" % len(args))\n",
    "allres = parallel_experiment_execution(job, args)\n",
    "allres = np.array(allres)\n",
    "allres = allres.reshape(len(idxs), len(lrs), *allres.shape[-2:])"
   ]
  },
  {
   "cell_type": "code",
   "execution_count": null,
   "id": "going-sacramento",
   "metadata": {},
   "outputs": [],
   "source": [
    "fig, axs = plt.subplots(1, 3)\n",
    "fig.set_figwidth(15)\n",
    "fig.suptitle(\"Final loss after %d epochs over learning rate\" % kwargs[\"epochs\"])\n",
    "\n",
    "for i in idxs:\n",
    "    ax = axs[i]\n",
    "    scale = ysgauss_scales[i]\n",
    "    ax.loglog(lrs, allres[i,:,0,-1], label=\"with grad. reg.\")\n",
    "    ax.loglog(lrs, allres[i,:,1,-1], label=\"without\")\n",
    "    \n",
    "    ax.set_ylim([1e-4, 1e1])    \n",
    "    ax.set_title(\"scale %.2g\" % scale)\n",
    "    ax.set_xlabel(\"learning rate\")\n",
    "    ax.legend(loc=\"best\")"
   ]
  },
  {
   "cell_type": "markdown",
   "id": "dramatic-depth",
   "metadata": {},
   "source": [
    "### Interpretation\n",
    "- Once again, regularization is good\n",
    "- Noise level has no impact here"
   ]
  },
  {
   "cell_type": "markdown",
   "id": "spectacular-search",
   "metadata": {},
   "source": [
    "## Stability under noise for ADAM"
   ]
  },
  {
   "cell_type": "code",
   "execution_count": null,
   "id": "respective-seeking",
   "metadata": {},
   "outputs": [],
   "source": [
    "kwargs = {\"epochs\": 400, \"degree\": 6}\n",
    "idxs = [(i,) for i in range(len(ysgauss))]\n",
    "\n",
    "def job(idx):    \n",
    "    print(\".\", end=\"\")    \n",
    "    opt = keras.optimizers.Adam(learning_rate=0.1)\n",
    "    coeffs, losses = fit(xs, ysgauss[idx], optimizer=opt, **kwargs)    \n",
    "    print(\"#\", end=\"\")\n",
    "    \n",
    "    return coeffs, losses\n",
    "\n",
    "print(\"Going to run %d jobs in parallel (. for start, # for end):\" % len(idxs))\n",
    "allres = parallel_experiment_execution(job, idxs)"
   ]
  },
  {
   "cell_type": "code",
   "execution_count": null,
   "id": "quantitative-search",
   "metadata": {},
   "outputs": [],
   "source": [
    "fig, (ax1, ax2) = plt.subplots(1, 2)\n",
    "fig.set_figwidth(10)\n",
    "fig.suptitle(\"ADAM for different noise levels\")\n",
    "colcycle = iter(mpl.rcParams['axes.prop_cycle'])\n",
    "\n",
    "for i, (coeffs, losses) in enumerate(allres):\n",
    "    col = next(colcycle)[\"color\"]\n",
    "    ps = polynomial.evaluate_vect(coeffs, xss)\n",
    "    ysg = ysgauss[i]\n",
    "    scale = ysgauss_scales[i]\n",
    "    \n",
    "    optcoeff = polynomial.l2minmizer(xs, ysg, kwargs[\"degree\"])\n",
    "    psopt = polynomial.evaluate_vect(optcoeff, xss)\n",
    "    optloss = l2_sq_loss(optcoeff, xs, ysg)\n",
    "        \n",
    "    ax1.plot(xs, ysg, '.', c=col)\n",
    "    ax1.plot(xss, ps, label=\"scale %.2g\" % scale, c=col)\n",
    "    ax1.plot(xss, psopt, c=col, linestyle=\"--\", alpha=0.2) \n",
    "    \n",
    "    ax2.semilogy(losses, label=\"scale %g, optloss=%.2g\" % (scale, optloss), c=col)\n",
    "    ax2.hlines(optloss, xmin=0, xmax=kwargs[\"epochs\"], linestyle=\"--\", color=col, alpha=0.2)    \n",
    "    \n",
    "ax1.set_title(\"Final results\")\n",
    "ax2.set_title(\"Losses approaching dashed optima\")\n",
    "ax2.set_ylim([1e-5,None])\n",
    "\n",
    "for ax in (ax1, ax2):\n",
    "    ax.legend(loc=\"best\")"
   ]
  },
  {
   "cell_type": "markdown",
   "id": "front-ontario",
   "metadata": {},
   "source": [
    "### Interpretation\n",
    "- The same as for SGD"
   ]
  },
  {
   "cell_type": "code",
   "execution_count": null,
   "id": "governmental-projector",
   "metadata": {},
   "outputs": [],
   "source": [
    "kwargs = {\"epochs\": 100, \"degree\": 6}\n",
    "# These are the learning rates of our experiments\n",
    "lrs = [10.0**e for e in np.arange(-2.0, 1.01, 0.1)]\n",
    "idxs = [i for i in range(len(ysgauss))]\n",
    "\n",
    "def job(lr, idx):    \n",
    "    print(\".\", end=\"\")    \n",
    "    opt = keras.optimizers.Adam(learning_rate=lr)\n",
    "    coeffs, losses = fit(xs, ysgauss[idx], optimizer=opt, **kwargs)    \n",
    "    print(\"#\", end=\"\")\n",
    "    \n",
    "    return losses\n",
    "\n",
    "args = [(lr, i) for i in idxs for lr in lrs]\n",
    "print(\"Going to run %d jobs in parallel (. for start, # for end):\" % len(args))\n",
    "allres = parallel_experiment_execution(job, args)\n",
    "allres = np.array(allres)\n",
    "allres = allres.reshape(len(idxs), len(lrs), *allres.shape[-1:])"
   ]
  },
  {
   "cell_type": "code",
   "execution_count": null,
   "id": "entitled-producer",
   "metadata": {},
   "outputs": [],
   "source": [
    "fig, axs = plt.subplots(1, 3)\n",
    "fig.set_figwidth(15)\n",
    "fig.suptitle(\"Final loss after %d epochs over learning rate\" % kwargs[\"epochs\"])\n",
    "\n",
    "for i in idxs:\n",
    "    ax = axs[i]\n",
    "    scale = ysgauss_scales[i]\n",
    "    ax.loglog(lrs, allres[i,:,-1])\n",
    "    \n",
    "    ax.set_title(\"scale %.2g\" % scale)\n",
    "    ax.set_xlabel(\"learning rate\") "
   ]
  },
  {
   "cell_type": "markdown",
   "id": "impressive-capture",
   "metadata": {},
   "source": [
    "### Interpretation\n",
    "- Note that we increased learning rate to over 10 here!\n",
    "- Increasing noise, at least on these three experiments, has no significant impact on ADAM in terms of what are admissible learning rates.\n",
    "- In fact, it seems as if higher noise actually makes higher learning rates possible or at least smoothens the above curves. The rationale behind this is probably that with higher noise the optimal solution already has \"significant\" error. Due to this large error the relative error changes for certain changes of the polynomial coefficients are therefore smaller."
   ]
  },
  {
   "cell_type": "markdown",
   "id": "exact-choir",
   "metadata": {},
   "source": [
    "## Revisit degree with better optimizer"
   ]
  },
  {
   "cell_type": "code",
   "execution_count": null,
   "id": "domestic-violin",
   "metadata": {},
   "outputs": [],
   "source": [
    "kwargs = {\"epochs\": 800}\n",
    "# These are the polynomial degrees\n",
    "degrees = [(d,) for d in range(1, 9)]\n",
    "\n",
    "def job(degree):        \n",
    "    nkwargs = kwargs\n",
    "    nkwargs[\"degree\"] = int(degree)\n",
    "    \n",
    "    print(\".\", end=\"\")\n",
    "    opt = keras.optimizers.SGD(learning_rate=0.1, momentum=0.95, nesterov=True)\n",
    "    _, losses_sgd = fit(xs, ys, regularize_grads_degree=True, optimizer=opt, **nkwargs)\n",
    "    \n",
    "    print(\"/\", end=\"\")\n",
    "    opt = keras.optimizers.Adam(learning_rate=0.1)\n",
    "    _, losses_adam = fit(xs, ys, regularize_grads_degree=False, optimizer=opt, **nkwargs)\n",
    "    \n",
    "    print(\"#\", end=\"\")\n",
    "    \n",
    "    return losses_sgd, losses_adam\n",
    "\n",
    "print(\"Going to run %d jobs in parallel (. for start, / for half-end, # for end):\" % len(degrees))\n",
    "allres = parallel_experiment_execution(job, degrees)\n",
    "allres = np.array(allres)"
   ]
  },
  {
   "cell_type": "code",
   "execution_count": null,
   "id": "sound-timber",
   "metadata": {},
   "outputs": [],
   "source": [
    "fig, axes = plt.subplots(2, (len(degrees) + 1)//2)\n",
    "axes = axes.flatten()\n",
    "fig.set_figwidth(len(degrees)*2)\n",
    "fig.set_figheight(6)\n",
    "fig.suptitle(\"Losses over epochs for different polynomial degrees\")\n",
    "\n",
    "for i, (d,) in enumerate(degrees):\n",
    "    ax = axes[i]\n",
    "    \n",
    "    optcoeff = polynomial.l2minmizer(xs, ys, d)    \n",
    "    optloss = l2_sq_loss(optcoeff, xs, ys)\n",
    "    \n",
    "    ax.set_title(\"degree %d, optloss = %.3e\" % (d, optloss))\n",
    "      \n",
    "    ax.semilogy(allres[i,0], label=\"SGD loss=%.3e\" % allres[i,0,-1])\n",
    "    ax.semilogy(allres[i,1], label=\"Adam loss=%.3e\" % allres[i,1,-1])\n",
    "    \n",
    "    ax.hlines(optloss, xmin=0, xmax=kwargs[\"epochs\"], linestyle=\"--\", color=\"gray\", alpha=0.2)   \n",
    "    \n",
    "    ax.set_ylim([1e-7, 1e-0])\n",
    "    ax.legend(loc=\"best\")"
   ]
  },
  {
   "cell_type": "markdown",
   "id": "composite-consensus",
   "metadata": {},
   "source": [
    "### Interpretation\n",
    "- With degree 1 and 2 the optimizers actually reach the optimum.\n",
    "- Higher degree leads to better optimal loss, of course.\n",
    "- With better optimizers we get closer to the optimum. Hence, we see that higher-degree polynomials leading to better loss. In fact, for Adam now degree 5 leads the best result and with more epochs it would be degree 4. For SGD degree 5 is best. So better optimizers shift the boundary of admissible degrees.\n",
    "- SGD is competitive with Adam until degree 3. For degree 2 it is actually prefred over Adam. Then, starting from 200 epochs, Adam outperforms SGD.\n",
    "- Furthermore, Adam converges for degree 8 as well. Here the degree-based regularization of gradients becomes, so it seems, insufficient, while Adam is adaptive.\n",
    "- **For our cam application: Shall we better use polynomial degree 5?**"
   ]
  },
  {
   "cell_type": "code",
   "execution_count": null,
   "id": "rural-myanmar",
   "metadata": {},
   "outputs": [],
   "source": []
  }
 ],
 "metadata": {
  "kernelspec": {
   "display_name": "Python 3",
   "language": "python",
   "name": "python3"
  },
  "language_info": {
   "codemirror_mode": {
    "name": "ipython",
    "version": 3
   },
   "file_extension": ".py",
   "mimetype": "text/x-python",
   "name": "python",
   "nbconvert_exporter": "python",
   "pygments_lexer": "ipython3",
   "version": "3.9.2"
  }
 },
 "nbformat": 4,
 "nbformat_minor": 5
}