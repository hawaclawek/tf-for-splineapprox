{
 "cells": [
  {
   "cell_type": "markdown",
   "metadata": {},
   "source": [
    "# Piecewise polynomial (spline) approximation module _tfspline_\n",
    "## Demo: Demonstrate options\n",
    "\n",
    "Version 1.0\n",
    "Date: 2022-06-09\n",
    "Contact: hannes.waclawek@fh-salzburg.ac.at"
   ]
  },
  {
   "cell_type": "code",
   "execution_count": 36,
   "metadata": {
    "tags": []
   },
   "outputs": [],
   "source": [
    "# Imports\n",
    "import matplotlib.pyplot as plt\n",
    "import numpy as np\n",
    "from tensorflow import keras\n",
    "from tfspline import model, plot, sampledata"
   ]
  },
  {
   "cell_type": "code",
   "execution_count": 37,
   "outputs": [],
   "source": [
    "# Spline config\n",
    "n_segments = 2\n",
    "degree = 5\n",
    "ck = 2"
   ],
   "metadata": {
    "collapsed": false,
    "pycharm": {
     "name": "#%%\n"
    }
   }
  },
  {
   "cell_type": "code",
   "execution_count": 38,
   "outputs": [],
   "source": [
    "# Optimization config\n",
    "learning_rate = 0.1\n",
    "epochs = 500\n",
    "lambd = 1\n",
    "gradient_regularization=True"
   ],
   "metadata": {
    "collapsed": false,
    "pycharm": {
     "name": "#%%\n"
    }
   }
  },
  {
   "cell_type": "code",
   "execution_count": 39,
   "metadata": {},
   "outputs": [
    {
     "data": {
      "text/plain": "<Figure size 432x288 with 1 Axes>",
      "image/png": "[encoded data removed]"
     },
     "metadata": {
      "needs_background": "light"
     },
     "output_type": "display_data"
    }
   ],
   "source": [
    "xss = np.linspace(0, 0.5*np.pi, 2000, dtype=\"double\")\n",
    "\n",
    "data_x = np.linspace(0, 0.5*np.pi, 10)\n",
    "#data_x_norm /= data_x_norm[-1] # norm to 1\n",
    "#data_x = data_x_norm[:]\n",
    "\n",
    "data_y = np.sin(data_x)\n",
    "\n",
    "data_x = sampledata.rescale_input_data(data_x, n_segments)\n",
    "\n",
    "# Plot data\n",
    "plt.plot(data_x, data_y, 'k.')\n",
    "\n",
    "spline = model.Spline(polydegree=degree, polynum=n_segments, ck=ck)"
   ]
  },
  {
   "cell_type": "markdown",
   "metadata": {},
   "source": [
    "## Enable trace messages"
   ]
  },
  {
   "cell_type": "code",
   "execution_count": 40,
   "metadata": {},
   "outputs": [],
   "source": [
    "spline.verbose = True"
   ]
  },
  {
   "cell_type": "markdown",
   "source": [
    "## Disable enforced continuity\n",
    "By default, continuity will be established after optimization via corrective polynomials (See paper for details).\n",
    "This can be deactivated."
   ],
   "metadata": {
    "collapsed": false
   }
  },
  {
   "cell_type": "code",
   "execution_count": 41,
   "outputs": [],
   "source": [
    "spline.continuity= False"
   ],
   "metadata": {
    "collapsed": false,
    "pycharm": {
     "name": "#%%\n"
    }
   }
  },
  {
   "cell_type": "markdown",
   "source": [
    "## Shifting polynomial centers\n",
    "Experiments show that SGD optimization has a \"radius of convergence\" around the polynomial center.\n",
    "This requires shifting of polynomial centers in order to allow optimization for higher x-value ranges.\n",
    "_tfspline_ offers 3 options with a \"usable\" x-range of:\n",
    "- ~1.75 without shifting of polynomial centers in total for all segments\n",
    "- ~1.75 per segment for shifting mode \"left boundary point\", since only the right side of radius is usable\n",
    "- ~3.5 per segment for shifting mode \"mean\", since both sides of radius are usable\n",
    "\n",
    "If we take an x interval of [0, 2], as an example, and divide it into two equally sized segments:\n",
    "- Without shifting polynomial centers, the second polynomial will diverge, since points lie outside the 1.75 radius\n",
    "- With shifting to the left boundary point, both segments will converge\n",
    "- With shifting to the mean of the segment, both segments will converge\n",
    "\n",
    "Adding more optimization targets than just the approximation target further decreases the \"radius of convergence\"."
   ],
   "metadata": {
    "collapsed": false
   }
  },
  {
   "cell_type": "markdown",
   "source": [
    "#### No shifting"
   ],
   "metadata": {
    "collapsed": false,
    "pycharm": {
     "name": "#%% md\n"
    }
   }
  },
  {
   "cell_type": "code",
   "execution_count": 42,
   "outputs": [
    {
     "name": "stdout",
     "output_type": "stream",
     "text": [
      "TensorFlow: Number of recognized GPUs:  0\n",
      "Fitting took 5.846105575561523 seconds loss= infepoch=160, loss= infepoch=180, loss= infepoch=200, loss= infepoch=220, loss= infepoch=250, loss= nanepoch=270, loss= nanepoch=290, loss= nanepoch=310, loss= nanepoch=330, loss= nanepoch=350, loss= nanepoch=370, loss= nanepoch=390, loss= nanepoch=410, loss= nanepoch=440, loss= nanepoch=460, loss= nanepoch=490, loss= nan\n"
     ]
    },
    {
     "data": {
      "text/plain": "<Figure size 504x360 with 1 Axes>",
      "image/png": "[encoded data removed]"
     },
     "metadata": {
      "needs_background": "light"
     },
     "output_type": "display_data"
    }
   ],
   "source": [
    "spline = model.Spline(polydegree=degree, polynum=n_segments, ck=ck)\n",
    "spline.verbose = True\n",
    "spline.continuity= False\n",
    "opt_sgd = keras.optimizers.SGD(learning_rate=learning_rate, momentum=0.95, nesterov=True)\n",
    "\n",
    "spline.fit(data_x, data_y, optimizer=opt_sgd, n_epochs=epochs, factor_approximation_quality=lambd,\n",
    "factor_ck_pressure=1-lambd, shift_polynomial_centers='off')\n",
    "\n",
    "plot.plot_spline(spline)"
   ],
   "metadata": {
    "collapsed": false,
    "pycharm": {
     "name": "#%%\n"
    }
   }
  },
  {
   "cell_type": "markdown",
   "source": [
    "#### Shifting to left boundary point"
   ],
   "metadata": {
    "collapsed": false,
    "pycharm": {
     "name": "#%% md\n"
    }
   }
  },
  {
   "cell_type": "code",
   "execution_count": 43,
   "outputs": [
    {
     "name": "stdout",
     "output_type": "stream",
     "text": [
      "TensorFlow: Number of recognized GPUs:  0\n",
      "Fitting took 5.8764612674713135 seconds\n"
     ]
    },
    {
     "data": {
      "text/plain": "<Figure size 504x360 with 1 Axes>",
      "image/png": "[encoded data removed]"
     },
     "metadata": {
      "needs_background": "light"
     },
     "output_type": "display_data"
    }
   ],
   "source": [
    "spline = model.Spline(polydegree=degree, polynum=n_segments, ck=ck)\n",
    "spline.verbose = True\n",
    "spline.continuity= False\n",
    "\n",
    "opt_sgd = keras.optimizers.SGD(learning_rate=learning_rate, momentum=0.95, nesterov=True)\n",
    "\n",
    "spline.fit(data_x, data_y, optimizer=opt_sgd, n_epochs=epochs, factor_approximation_quality=lambd,\n",
    "factor_ck_pressure=1-lambd, shift_polynomial_centers='boundary')\n",
    "\n",
    "plot.plot_spline(spline)"
   ],
   "metadata": {
    "collapsed": false,
    "pycharm": {
     "name": "#%%\n"
    }
   }
  },
  {
   "cell_type": "markdown",
   "source": [
    "#### Shifting to mean of segment"
   ],
   "metadata": {
    "collapsed": false
   }
  },
  {
   "cell_type": "code",
   "execution_count": 44,
   "outputs": [
    {
     "name": "stdout",
     "output_type": "stream",
     "text": [
      "TensorFlow: Number of recognized GPUs:  0\n",
      "Fitting took 5.9244444370269775 seconds0.0445563epoch=50, loss=0.0149605epoch=70, loss=0.0041655epoch=90, loss=0.000910757epoch=110, loss=0.000613446epoch=130, loss=0.00050152epoch=150, loss=0.000365424epoch=180, loss=0.000264492epoch=200, loss=0.000212465epoch=220, loss=0.000171846epoch=240, loss=0.000140071epoch=260, loss=0.000114528epoch=280, loss=9.41524e-05epoch=300, loss=7.78884e-05epoch=320, loss=6.48755e-05epoch=340, loss=5.44644e-05epoch=370, loss=4.2606e-05epoch=390, loss=3.66259e-05epoch=410, loss=3.18274e-05epoch=430, loss=2.7972e-05epoch=460, loss=2.35524e-05epoch=490, loss=2.03482e-05\n"
     ]
    },
    {
     "data": {
      "text/plain": "<Figure size 504x360 with 1 Axes>",
      "image/png": "[encoded data removed]"
     },
     "metadata": {
      "needs_background": "light"
     },
     "output_type": "display_data"
    }
   ],
   "source": [
    "spline = model.Spline(polydegree=degree, polynum=n_segments, ck=ck)\n",
    "spline.verbose = True\n",
    "spline.continuity= False\n",
    "\n",
    "opt_sgd = keras.optimizers.SGD(learning_rate=learning_rate, momentum=0.95, nesterov=True)\n",
    "\n",
    "spline.fit(data_x, data_y, optimizer=opt_sgd, n_epochs=epochs, factor_approximation_quality=lambd,\n",
    "factor_ck_pressure=1-lambd, shift_polynomial_centers='mean')\n",
    "\n",
    "plot.plot_spline(spline)"
   ],
   "metadata": {
    "collapsed": false,
    "pycharm": {
     "name": "#%%\n"
    }
   }
  },
  {
   "cell_type": "markdown",
   "source": [
    "## Segmentation methods\n",
    "There are two ways available to split input data:\n",
    "- Divide the input space into uniform segments (boundary point can be between two input data points)\n",
    "- Divide the input space into non-uniform segments(boundary point always lies at input data point)"
   ],
   "metadata": {
    "collapsed": false
   }
  },
  {
   "cell_type": "markdown",
   "source": [
    "#### Uniform"
   ],
   "metadata": {
    "collapsed": false
   }
  },
  {
   "cell_type": "code",
   "execution_count": 45,
   "outputs": [
    {
     "name": "stdout",
     "output_type": "stream",
     "text": [
      "TensorFlow: Number of recognized GPUs:  0\n",
      "Fitting took 5.728131532669067 seconds\n"
     ]
    },
    {
     "data": {
      "text/plain": "<Figure size 504x360 with 1 Axes>",
      "image/png": "[encoded data removed]"
     },
     "metadata": {
      "needs_background": "light"
     },
     "output_type": "display_data"
    }
   ],
   "source": [
    "spline = model.Spline(polydegree=degree, polynum=n_segments, ck=ck)\n",
    "spline.verbose = True\n",
    "spline.continuity= False\n",
    "\n",
    "opt_sgd = keras.optimizers.SGD(learning_rate=learning_rate, momentum=0.95, nesterov=True)\n",
    "\n",
    "spline.fit(data_x, data_y, optimizer=opt_sgd, n_epochs=epochs, factor_approximation_quality=lambd,\n",
    "factor_ck_pressure=1-lambd, uniform_split=True)\n",
    "\n",
    "plot.plot_spline(spline)"
   ],
   "metadata": {
    "collapsed": false,
    "pycharm": {
     "name": "#%%\n"
    }
   }
  },
  {
   "cell_type": "markdown",
   "source": [
    "#### Non-uniform"
   ],
   "metadata": {
    "collapsed": false
   }
  },
  {
   "cell_type": "code",
   "execution_count": 46,
   "outputs": [
    {
     "name": "stdout",
     "output_type": "stream",
     "text": [
      "TensorFlow: Number of recognized GPUs:  0\n",
      "Fitting took 5.5152366161346436 seconds\n"
     ]
    },
    {
     "data": {
      "text/plain": "<Figure size 504x360 with 1 Axes>",
      "image/png": "[encoded data removed]"
     },
     "metadata": {
      "needs_background": "light"
     },
     "output_type": "display_data"
    }
   ],
   "source": [
    "spline = model.Spline(polydegree=degree, polynum=n_segments, ck=ck)\n",
    "spline.verbose = True\n",
    "spline.continuity= False\n",
    "\n",
    "opt_sgd = keras.optimizers.SGD(learning_rate=learning_rate, momentum=0.95, nesterov=True)\n",
    "\n",
    "spline.fit(data_x, data_y, optimizer=opt_sgd, n_epochs=epochs, factor_approximation_quality=lambd,\n",
    "factor_ck_pressure=1-lambd, uniform_split=False)\n",
    "\n",
    "plot.plot_spline(spline)"
   ],
   "metadata": {
    "collapsed": false,
    "pycharm": {
     "name": "#%%\n"
    }
   }
  },
  {
   "cell_type": "markdown",
   "metadata": {},
   "source": [
    "## Generate spline from coefficients"
   ]
  },
  {
   "cell_type": "code",
   "execution_count": 53,
   "outputs": [
    {
     "data": {
      "text/plain": "<Figure size 504x360 with 1 Axes>",
      "image/png": "[encoded data removed]"
     },
     "metadata": {
      "needs_background": "light"
     },
     "output_type": "display_data"
    }
   ],
   "source": [
    "spline_new = model.get_spline_from_coeffs(spline.coeffs, data_x, data_y)\n",
    "\n",
    "plot.plot_spline(spline_new)"
   ],
   "metadata": {
    "collapsed": false,
    "pycharm": {
     "name": "#%%\n"
    }
   }
  }
 ],
 "metadata": {
  "interpreter": {
   "hash": "13810a72ee78a900f83b2b52ec50c174e4641155ed79b77ba700429e4094b941"
  },
  "kernelspec": {
   "display_name": "Python 3.8.10 64-bit ('venv': venv)",
   "name": "python3"
  },
  "language_info": {
   "codemirror_mode": {
    "name": "ipython",
    "version": 3
   },
   "file_extension": ".py",
   "mimetype": "text/x-python",
   "name": "python",
   "nbconvert_exporter": "python",
   "pygments_lexer": "ipython3",
   "version": "3.8.10"
  },
  "metadata": {
   "interpreter": {
    "hash": "8ccd56b516489a13ac801b7e0a598e988bfeca2e1c956e6bfb2f0d9225cf84a2"
   }
  },
  "orig_nbformat": 2
 },
 "nbformat": 4,
 "nbformat_minor": 2
}